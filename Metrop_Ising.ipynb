{
 "cells": [
  {
   "cell_type": "code",
   "execution_count": 15,
   "metadata": {},
   "outputs": [],
   "source": [
    "import numpy as np\n",
    "\n",
    "def rand_latt(shape, prob=0.5):\n",
    "    nrows, ncols = shape\n",
    "    latt = np.random.choice(a=[-1, 1], size=shape, p=[prob, 1-prob])\n",
    "    return latt\n",
    "\n",
    "normal_latt = lambda shape: np.ones(shape)\n",
    "\n",
    "#Credited to Alex McFarlane @ https://flipdazed.github.io/\n",
    "class Periodic_Lattice(np.ndarray):\n",
    "    \"\"\"Creates an n-dimensional ring that joins on boundaries w/ numpy\n",
    "    \n",
    "    Required Inputs\n",
    "        array :: np.array :: n-dim numpy array to use wrap with\n",
    "    \n",
    "    Only currently supports single point selections wrapped around the boundary\n",
    "    \"\"\"\n",
    "    def __new__(cls, input_array, lattice_spacing=None):\n",
    "        \"\"\"__new__ is called by numpy when and explicit constructor is used:\n",
    "        obj = MySubClass(params) otherwise we must rely on __array_finalize\n",
    "         \"\"\"\n",
    "        # Input array is an already formed ndarray instance\n",
    "        # We first cast to be our class type\n",
    "        obj = np.asarray(input_array).view(cls)\n",
    "        \n",
    "        # add the new attribute to the created instance\n",
    "        obj.lattice_shape = input_array.shape\n",
    "        obj.lattice_dim = len(input_array.shape)\n",
    "        obj.lattice_spacing = lattice_spacing\n",
    "        \n",
    "        # Finally, we must return the newly created object:\n",
    "        return obj\n",
    "    \n",
    "    def __getitem__(self, index):\n",
    "        index = self.latticeWrapIdx(index)\n",
    "        return super(Periodic_Lattice, self).__getitem__(index)\n",
    "    \n",
    "    def __setitem__(self, index, item):\n",
    "        index = self.latticeWrapIdx(index)\n",
    "        return super(Periodic_Lattice, self).__setitem__(index, item)\n",
    "    \n",
    "    def __array_finalize__(self, obj):\n",
    "        \"\"\" ndarray.__new__ passes __array_finalize__ the new object, \n",
    "        of our own class (self) as well as the object from which the view has been taken (obj). \n",
    "        See\n",
    "        http://docs.scipy.org/doc/numpy/user/basics.subclassing.html#simple-example-adding-an-extra-attribute-to-ndarray\n",
    "        for more info\n",
    "        \"\"\"\n",
    "        # ``self`` is a new object resulting from\n",
    "        # ndarray.__new__(Periodic_Lattice, ...), therefore it only has\n",
    "        # attributes that the ndarray.__new__ constructor gave it -\n",
    "        # i.e. those of a standard ndarray.\n",
    "        #\n",
    "        # We could have got to the ndarray.__new__ call in 3 ways:\n",
    "        # From an explicit constructor - e.g. Periodic_Lattice():\n",
    "        #   1. obj is None\n",
    "        #       (we're in the middle of the Periodic_Lattice.__new__\n",
    "        #       constructor, and self.info will be set when we return to\n",
    "        #       Periodic_Lattice.__new__)\n",
    "        if obj is None: return\n",
    "        #   2. From view casting - e.g arr.view(Periodic_Lattice):\n",
    "        #       obj is arr\n",
    "        #       (type(obj) can be Periodic_Lattice)\n",
    "        #   3. From new-from-template - e.g lattice[:3]\n",
    "        #       type(obj) is Periodic_Lattice\n",
    "        # \n",
    "        # Note that it is here, rather than in the __new__ method,\n",
    "        # that we set the default value for 'spacing', because this\n",
    "        # method sees all creation of default objects - with the\n",
    "        # Periodic_Lattice.__new__ constructor, but also with\n",
    "        # arr.view(Periodic_Lattice).\n",
    "        #\n",
    "        # These are in effect the default values from these operations\n",
    "        self.lattice_shape = getattr(obj, 'lattice_shape', obj.shape)\n",
    "        self.lattice_dim = getattr(obj, 'lattice_dim', len(obj.shape))\n",
    "        self.lattice_spacing = getattr(obj, 'lattice_spacing', None)\n",
    "        pass\n",
    "    \n",
    "    def latticeWrapIdx(self, index):\n",
    "        \"\"\"returns periodic lattice index \n",
    "        for a given iterable index\n",
    "        \n",
    "        Required Inputs:\n",
    "            index :: iterable :: one integer for each axis\n",
    "        \n",
    "        This is NOT compatible with slicing\n",
    "        \"\"\"\n",
    "        if not hasattr(index, '__iter__'): return index         # handle integer slices\n",
    "        if len(index) != len(self.lattice_shape): return index  # must reference a scalar\n",
    "        if any(type(i) == slice for i in index): return index   # slices not supported\n",
    "        if len(index) == len(self.lattice_shape):               # periodic indexing of scalars\n",
    "            mod_index = tuple(( (i%s + s)%s for i,s in zip(index, self.lattice_shape)))\n",
    "            return mod_index\n",
    "        raise ValueError('Unexpected index: {}'.format(index))\n",
    "\n",
    "\n",
    "class ising_metropolis:\n",
    "    \"\"\"Creates an n-dimensional context for performing numerical simulations\n",
    "    of the classical Ising model using the metropilis algorithm.    \n",
    "    Required Inputs\n",
    "        lattice :: np.array :: n-dim numpy array of Ising spins, initialized.\n",
    "    \n",
    "    Optional Inputs\n",
    "        k       :: integer  :: number of nearest neighbors in the model, default=1\n",
    "        J       :: iterable :: array of hopping amplitudes, size must equal k, default=[1.0]\n",
    "        h       :: float    :: longitudinal field, default=0\n",
    "        verbose :: boolean  :: verbose output, default=True\n",
    "    Periodic boundary conditions are ensured using the 'Periodic_Lattice' object coded\n",
    "    in the corresponding class above\n",
    "    \n",
    "    Note that this class will only work for lattices where long range hoppings are defined \n",
    "    on the lattice graph, and not on the continuum.\n",
    "    Ref: http://micro.stanford.edu/~caiwei/me334/Chap12_Ising_Model_v04.pdf\n",
    "    \"\"\"\n",
    "    def __init__(self, lattice, k=1, J=[1.0], h=0, verbose=True):\n",
    "        self.lattice = Periodic_Lattice(lattice)\n",
    "        self.k = k\n",
    "        self.J = J\n",
    "        self.h = h\n",
    "        self.verbose = verbose\n",
    "            \n",
    "    def rand_idx(self):\n",
    "        \"\"\"Randomly chooses a set of lattice indices.\n",
    "        \"\"\"\n",
    "        indices = [np.random.randint(0, high=ndim) for ndim in self.lattice.lattice_shape]\n",
    "        return indices\n",
    "   \n",
    "    def flip_spin(self, indices):\n",
    "        \"\"\"Flips an Ising spin in the lattice. Takes indices as argument.\n",
    "        \"\"\"\n",
    "        self.lattice[indices] *= -1\n",
    "\n",
    "    def comb_spinstate(self, indices):\n",
    "        \"\"\"A key element of this model is calculating the combined spin state of the k-nearest \n",
    "        neighbours around a given lattice point . Returns the combined spin state local to '\n",
    "        that point\n",
    "        TODO: https://github.com/patvarilly/periodic_kdtree , https://docs.scikit-nano.org/dev/api/sknano.core.analysis.PeriodicKDTree.html\n",
    "        \"\"\"\n",
    "        return None\n",
    "    \n",
    "    def draw(self, plotter, draw_size=(25,1), **kwargs):\n",
    "        \"\"\"If the lattice is 1 or 2 dimensional, then draws it\n",
    "        \n",
    "        Required Inputs\n",
    "        plotter :: matplotlib object or axis\n",
    "        \"\"\"\n",
    "        if len(self.lattice.lattice_shape) > 2:\n",
    "            raise ValueError(\"Lattice must be 1 or 2 dimensional, not %d.\"%self.lattice.lattice_shape)\n",
    "        l, w = draw_size\n",
    "        fig = plt.figure()\n",
    "        fig.set_size_inches(l,w)\n",
    "        plotter.axis('off')\n",
    "        plotter.imshow(self.lattice, **kwargs)\n",
    "        plotter.show()\n",
    "    \n",
    "    def evolve(self):\n",
    "        \"\"\"Carries out the metropolis evolution\n",
    "        TODO:https://share.cocalc.com/share/bb76377ee6823f7155a629e6f072f30d7c0b956f/Project_IsingModel/Project_IsingModel.ipynb?viewer=share\n",
    "        \"\"\"\n",
    "        return None"
   ]
  },
  {
   "cell_type": "code",
   "execution_count": 17,
   "metadata": {},
   "outputs": [
    {
     "data": {
      "image/png": "[encoded data removed]",
      "text/plain": [
       "<Figure size 576x2160 with 1 Axes>"
      ]
     },
     "metadata": {
      "needs_background": "light"
     },
     "output_type": "display_data"
    },
    {
     "data": {
      "image/png": "[encoded data removed]",
      "text/plain": [
       "<Figure size 576x2160 with 1 Axes>"
      ]
     },
     "metadata": {
      "needs_background": "light"
     },
     "output_type": "display_data"
    }
   ],
   "source": [
    "#Test values for rendering ising model in 1d \n",
    "import matplotlib.pyplot as plt\n",
    "%matplotlib inline\n",
    "# 1 dimensional\n",
    "nspins = 100\n",
    "image_size = (8, 30) #This is in inches\n",
    "\n",
    "I_1d = ising_metropolis(rand_latt((1, nspins)))\n",
    "\n",
    "I_1d.draw(plt, draw_size=image_size, cmap = 'cool', interpolation='nearest', aspect=10)\n",
    "\n",
    "I_1d.flip_spin(I_1d.rand_idx())\n",
    "\n",
    "I_1d.draw(plt, draw_size=image_size, cmap = 'cool', interpolation='nearest', aspect=10)"
   ]
  },
  {
   "cell_type": "code",
   "execution_count": 18,
   "metadata": {},
   "outputs": [
    {
     "data": {
      "image/png": "[encoded data removed]",
      "text/plain": [
       "<Figure size 360x360 with 1 Axes>"
      ]
     },
     "metadata": {
      "needs_background": "light"
     },
     "output_type": "display_data"
    },
    {
     "data": {
      "image/png": "[encoded data removed]",
      "text/plain": [
       "<Figure size 360x360 with 1 Axes>"
      ]
     },
     "metadata": {
      "needs_background": "light"
     },
     "output_type": "display_data"
    }
   ],
   "source": [
    "#Test values for rendering ising model in 2d \n",
    "\n",
    "# 2 dimensional\n",
    "spinshape = (20, 20)\n",
    "image_size = (5, 5) #This is in inches\n",
    "image_aspect = 1 #Adjust this with nspins\n",
    "\n",
    "I_2d = ising_metropolis(rand_latt(spinshape))\n",
    "\n",
    "I_2d.draw(plt, draw_size=image_size, cmap = 'cool', interpolation='nearest', aspect=1)\n",
    "\n",
    "I_2d.flip_spin(I_2d.rand_idx())\n",
    "\n",
    "I_2d.draw(plt, draw_size=image_size, cmap = 'cool', interpolation='nearest', aspect=1)"
   ]
  }
 ],
 "metadata": {
  "kernelspec": {
   "display_name": "Python 3",
   "language": "python",
   "name": "python3"
  },
  "language_info": {
   "codemirror_mode": {
    "name": "ipython",
    "version": 3
   },
   "file_extension": ".py",
   "mimetype": "text/x-python",
   "name": "python",
   "nbconvert_exporter": "python",
   "pygments_lexer": "ipython3",
   "version": "3.6.9"
  }
 },
 "nbformat": 4,
 "nbformat_minor": 4
}
