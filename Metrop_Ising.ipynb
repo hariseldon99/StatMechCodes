{
 "cells": [
  {
   "cell_type": "code",
   "execution_count": 19,
   "metadata": {},
   "outputs": [],
   "source": [
    "import numpy as np\n",
    "\n",
    "#TODO:\n",
    "#https://share.cocalc.com/share/bb76377ee6823f7155a629e6f072f30d7c0b956f/Project_IsingModel/Project_IsingModel.ipynb?viewer=share\n",
    "#http://micro.stanford.edu/~caiwei/me334/Chap12_Ising_Model_v04.pdf\n",
    "# Put lattice in a class where data and indices-grid are there\n",
    "#put everything in the class as methods\n",
    "# For nearest neighbor queries on the indices-grid:\n",
    "# https://docs.scikit-nano.org/dev/api/sknano.core.analysis.PeriodicKDTree.html\n",
    "\n",
    "def rand_latt(shape, prob=0.5):\n",
    "    nrows, ncols = shape\n",
    "    latt = np.random.choice(a=[-1, 1], size=shape, p=[prob, 1-prob])\n",
    "    return latt\n",
    "\n",
    "normal_latt = lambda shape: np.ones(shape)\n",
    "\n",
    "class ising_metropolis:\n",
    "    def __init__(self, lattice, verbose=True):\n",
    "        self.lattice = lattice\n",
    "        self.verbose = verbose\n",
    "        self.enforce_PBC()\n",
    "    \n",
    "    def enforce_PBC(self):\n",
    "        #1 and 2d only, generalize to nd\n",
    "        #https://flipdazed.github.io/blog/python/periodic-boundary-conditions\n",
    "        nrows, ncols = self.lattice.shape\n",
    "        if nrows != 1 and ncols != 1:\n",
    "            self.lattice[nrows-1] = self.lattice[0]\n",
    "            self.lattice[:,ncols -1] = self.lattice[:,0]\n",
    "        elif nrows == 1:\n",
    "            self.lattice[0, -1] = self.lattice[0, 0]\n",
    "        elif ncols == 1:\n",
    "            self.lattice[-1, 0] = self.lattice[0, 0]\n",
    "            \n",
    "    def rand_idx(self):\n",
    "        #1 and 2d only. Generalize to nd\n",
    "        nrows, ncols = self.lattice.shape\n",
    "        indices =  (np.random.randint(0, high=nrows), np.random.randint(0, high=ncols))\n",
    "        return indices\n",
    "   \n",
    "    def flip_spin(self, indices):\n",
    "        self.lattice[indices] *= -1\n",
    "\n",
    "    def comb_spinstate(self, indices):\n",
    "        #Use: https://github.com/patvarilly/periodic_kdtree\n",
    "        return None\n",
    "    \n",
    "    def draw(self, plotter, draw_size=(25,1), draw_aspect='equal'):\n",
    "        #1 and 2d only. put error for more ds\n",
    "        l, w = draw_size\n",
    "        fig = plt.figure()\n",
    "        fig.set_size_inches(l,w)\n",
    "        plotter.axis('off')\n",
    "        plotter.imshow(self.lattice, cmap='cool',interpolation='nearest',aspect=draw_aspect)\n",
    "        plotter.show()\n",
    "    \n",
    "    def evolve(self):\n",
    "        return None"
   ]
  },
  {
   "cell_type": "code",
   "execution_count": 20,
   "metadata": {},
   "outputs": [
    {
     "data": {
      "image/png": "[encoded data removed]",
      "text/plain": [
       "<Figure size 360x1440 with 1 Axes>"
      ]
     },
     "metadata": {
      "needs_background": "light"
     },
     "output_type": "display_data"
    },
    {
     "data": {
      "image/png": "[encoded data removed]",
      "text/plain": [
       "<Figure size 360x1440 with 1 Axes>"
      ]
     },
     "metadata": {
      "needs_background": "light"
     },
     "output_type": "display_data"
    }
   ],
   "source": [
    "#Test values for rendering ising model in 1d \n",
    "import matplotlib.pyplot as plt\n",
    "%matplotlib inline\n",
    "# 1 dimensional\n",
    "nspins = 50\n",
    "image_size = (5, 20) #This is in inches\n",
    "image_aspect = 10 #Adjust this with nspins\n",
    "I_1d = ising_metropolis(rand_latt((1, nspins)))\n",
    "\n",
    "I_1d.draw(plt, draw_size=image_size, draw_aspect=image_aspect)\n",
    "\n",
    "I_1d.flip_spin(I_1d.rand_idx())\n",
    "\n",
    "I_1d.draw(plt, draw_size=image_size, draw_aspect=image_aspect)"
   ]
  },
  {
   "cell_type": "code",
   "execution_count": 22,
   "metadata": {},
   "outputs": [
    {
     "data": {
      "image/png": "[encoded data removed]",
      "text/plain": [
       "<Figure size 360x360 with 1 Axes>"
      ]
     },
     "metadata": {
      "needs_background": "light"
     },
     "output_type": "display_data"
    },
    {
     "data": {
      "image/png": "[encoded data removed]",
      "text/plain": [
       "<Figure size 360x360 with 1 Axes>"
      ]
     },
     "metadata": {
      "needs_background": "light"
     },
     "output_type": "display_data"
    }
   ],
   "source": [
    "#Test values for rendering ising model in 2d \n",
    "\n",
    "# 2 dimensional\n",
    "spinshape = (10, 10)\n",
    "image_size = (5, 5) #This is in inches\n",
    "image_aspect = 1 #Adjust this with nspins\n",
    "\n",
    "I_2d = ising_metropolis(rand_latt(spinshape))\n",
    "\n",
    "I_2d.draw(plt, draw_size=image_size, draw_aspect=image_aspect)\n",
    "\n",
    "I_2d.flip_spin(I_2d.rand_idx())\n",
    "\n",
    "I_2d.draw(plt, draw_size=image_size, draw_aspect=image_aspect)"
   ]
  }
 ],
 "metadata": {
  "kernelspec": {
   "display_name": "Python 3",
   "language": "python",
   "name": "python3"
  },
  "language_info": {
   "codemirror_mode": {
    "name": "ipython",
    "version": 3
   },
   "file_extension": ".py",
   "mimetype": "text/x-python",
   "name": "python",
   "nbconvert_exporter": "python",
   "pygments_lexer": "ipython3",
   "version": "3.6.9"
  }
 },
 "nbformat": 4,
 "nbformat_minor": 4
}
